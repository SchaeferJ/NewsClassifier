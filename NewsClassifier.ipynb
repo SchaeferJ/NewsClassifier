{
 "cells": [
  {
   "cell_type": "markdown",
   "metadata": {},
   "source": [
    "# News Classifier - Reference implementation with GUI\n",
    "**Jochen Connor Schäfer (jocsc896)**\n",
    "\n",
    "Course 732A92 - Text Mining\n",
    "\n",
    "Linköping University\n",
    "\n",
    "17.01.2019"
   ]
  },
  {
   "cell_type": "markdown",
   "metadata": {},
   "source": [
    "### Loading dependencies\n",
    "The model requires pre-trained fastText-vectors to work properly. They can be retrieved from FacebookAI's website for 157 different languages: https://fasttext.cc/docs/en/crawl-vectors.html. Please download the German vectors and move the *wiki.de.vec* file into the subdirectory named *embeddings*."
   ]
  },
  {
   "cell_type": "code",
   "execution_count": 1,
   "metadata": {},
   "outputs": [
    {
     "name": "stderr",
     "output_type": "stream",
     "text": [
      "/home/jochens/anaconda3/lib/python3.6/site-packages/sklearn/ensemble/weight_boosting.py:29: DeprecationWarning: numpy.core.umath_tests is an internal NumPy module and should not be imported. It will be removed in a future NumPy release.\n",
      "  from numpy.core.umath_tests import inner1d\n",
      "/home/jochens/anaconda3/lib/python3.6/site-packages/h5py/__init__.py:36: FutureWarning: Conversion of the second argument of issubdtype from `float` to `np.floating` is deprecated. In future, it will be treated as `np.float64 == np.dtype(float).type`.\n",
      "  from ._conv import register_converters as _register_converters\n",
      "Using TensorFlow backend.\n"
     ]
    }
   ],
   "source": [
    "import spacy\n",
    "import pickle\n",
    "from sklearn import model_selection, preprocessing, linear_model, naive_bayes, metrics, svm\n",
    "from sklearn.feature_extraction.text import TfidfVectorizer, CountVectorizer\n",
    "from sklearn import decomposition, ensemble\n",
    "import numpy as np\n",
    "import pandas, xgboost, numpy, textblob, string, csv\n",
    "from keras.preprocessing import text, sequence\n",
    "from keras import layers, models, optimizers\n",
    "import matplotlib.pyplot as plt\n",
    "from keras.utils import np_utils\n",
    "from keras.callbacks import EarlyStopping, ModelCheckpoint\n",
    "import nltk\n",
    "from nltk.corpus import stopwords\n",
    "from nltk.tokenize import word_tokenize "
   ]
  },
  {
   "cell_type": "markdown",
   "metadata": {},
   "source": [
    "### Preparing the environment"
   ]
  },
  {
   "cell_type": "code",
   "execution_count": 2,
   "metadata": {},
   "outputs": [],
   "source": [
    "# Importing German language model\n",
    "import de_core_news_sm\n",
    "lng_model = de_core_news_sm.load()"
   ]
  },
  {
   "cell_type": "markdown",
   "metadata": {},
   "source": [
    "** Defining progress bar. Widget taken from Alexander Kukushkin, https://github.com/alexanderkuk/log-progress **\n",
    "\n",
    "Used under MIT-License"
   ]
  },
  {
   "cell_type": "code",
   "execution_count": 3,
   "metadata": {},
   "outputs": [],
   "source": [
    "\n",
    "def log_progress(sequence, every=None, size=None, name='Items'):\n",
    "    from ipywidgets import IntProgress, HTML, VBox\n",
    "    from IPython.display import display\n",
    "\n",
    "    is_iterator = False\n",
    "    if size is None:\n",
    "        try:\n",
    "            size = len(sequence)\n",
    "        except TypeError:\n",
    "            is_iterator = True\n",
    "    if size is not None:\n",
    "        if every is None:\n",
    "            if size <= 200:\n",
    "                every = 1\n",
    "            else:\n",
    "                every = int(size / 200)     # every 0.5%\n",
    "    else:\n",
    "        assert every is not None, 'sequence is iterator, set every'\n",
    "\n",
    "    if is_iterator:\n",
    "        progress = IntProgress(min=0, max=1, value=1)\n",
    "        progress.bar_style = 'info'\n",
    "    else:\n",
    "        progress = IntProgress(min=0, max=size, value=0)\n",
    "    label = HTML()\n",
    "    box = VBox(children=[label, progress])\n",
    "    display(box)\n",
    "\n",
    "    index = 0\n",
    "    try:\n",
    "        for index, record in enumerate(sequence, 1):\n",
    "            if index == 1 or index % every == 0:\n",
    "                if is_iterator:\n",
    "                    label.value = '{name}: {index} / ?'.format(\n",
    "                        name=name,\n",
    "                        index=index\n",
    "                    )\n",
    "                else:\n",
    "                    progress.value = index\n",
    "                    label.value = u'{name}: {index} / {size}'.format(\n",
    "                        name=name,\n",
    "                        index=index,\n",
    "                        size=size\n",
    "                    )\n",
    "            yield record\n",
    "    except:\n",
    "        progress.bar_style = 'danger'\n",
    "        raise\n",
    "    else:\n",
    "        progress.bar_style = 'success'\n",
    "        progress.value = index\n",
    "        label.value = \"{name}: {index}\".format(\n",
    "            name=name,\n",
    "            index=str(index or '?')\n",
    "        )"
   ]
  },
  {
   "cell_type": "markdown",
   "metadata": {},
   "source": [
    "If the code below throws errors, try executing the following commands first\n",
    "> nltk.download(\"punkt\")\n",
    ">\n",
    "> nltk.download(\"stopwords\")"
   ]
  },
  {
   "cell_type": "code",
   "execution_count": 5,
   "metadata": {},
   "outputs": [
    {
     "data": {
      "application/vnd.jupyter.widget-view+json": {
       "model_id": "c85b5b2490a54e11b149697b1b7e24f5",
       "version_major": 2,
       "version_minor": 0
      },
      "text/html": [
       "<p>Failed to display Jupyter Widget of type <code>VBox</code>.</p>\n",
       "<p>\n",
       "  If you're reading this message in the Jupyter Notebook or JupyterLab Notebook, it may mean\n",
       "  that the widgets JavaScript is still loading. If this message persists, it\n",
       "  likely means that the widgets JavaScript library is either not installed or\n",
       "  not enabled. See the <a href=\"https://ipywidgets.readthedocs.io/en/stable/user_install.html\">Jupyter\n",
       "  Widgets Documentation</a> for setup instructions.\n",
       "</p>\n",
       "<p>\n",
       "  If you're reading this message in another frontend (for example, a static\n",
       "  rendering on GitHub or <a href=\"https://nbviewer.jupyter.org/\">NBViewer</a>),\n",
       "  it may mean that your frontend doesn't currently support widgets.\n",
       "</p>\n"
      ],
      "text/plain": [
       "VBox(children=(HTML(value=''), IntProgress(value=0, max=13558)))"
      ]
     },
     "metadata": {},
     "output_type": "display_data"
    }
   ],
   "source": [
    "title, date, content, label, orgshare, pershare, locshare, wordcount = [], [], [], [], [], [], [], []\n",
    "sw =  set(stopwords.words('german'))\n",
    "punct = r'!\"§$%&/-()=?{[]}:,.\\```\\''\n",
    "with open(\"articles.csv\", encoding=\"utf-8\") as f:\n",
    "    reader = csv.reader(f)\n",
    "    next(reader) # skip header\n",
    "    for row in log_progress(reader, every=1, size=13558):\n",
    "        title.append(row[1])\n",
    "        date.append(row[2])\n",
    "        temp = row[3]\n",
    "        word_tokens = nltk.word_tokenize(temp)\n",
    "        filtered_sentence = [w for w in word_tokens if (not w in sw) and (not w in punct)]\n",
    "        filtered_sentence = \" \".join(filtered_sentence)\n",
    "        content.append(filtered_sentence)\n",
    "        nes = []\n",
    "        for i in lng_model(row[3]).ents:\n",
    "            nes.append(i.label_)\n",
    "        wc = len(row[3].split())\n",
    "        wordcount.append(wc)\n",
    "        orgshare.append(nes.count(\"ORG\")/wc)\n",
    "        pershare.append(nes.count(\"PER\")/wc)\n",
    "        locshare.append(nes.count(\"LOC\")/wc)\n",
    "        label.append(row[4])\n",
    "\n",
    "data = pandas.DataFrame()\n",
    "data['title'] = title\n",
    "data['date'] = date\n",
    "data['text'] = content\n",
    "data['label'] = label\n",
    "data['wordcount'] = wordcount\n",
    "data['orgshare'] = orgshare\n",
    "data['locshare'] = locshare\n",
    "data['pershare'] = pershare"
   ]
  },
  {
   "cell_type": "code",
   "execution_count": null,
   "metadata": {},
   "outputs": [],
   "source": [
    "# Save corpus to disk\n",
    "pickle.dump(data, open( \"corpus_nosw.pck\", \"wb\" ) )"
   ]
  },
  {
   "cell_type": "markdown",
   "metadata": {},
   "source": [
    "## Checkpoint 1\n",
    "If you have executed the above code before, you can restart here, thus avoiding the lenghty building of the corpus."
   ]
  },
  {
   "cell_type": "code",
   "execution_count": 45,
   "metadata": {},
   "outputs": [],
   "source": [
    "# Load corpus from disk\n",
    "data = pickle.load( open( \"corpus_nosw.pck\", \"rb\" ) )"
   ]
  },
  {
   "cell_type": "code",
   "execution_count": 46,
   "metadata": {},
   "outputs": [
    {
     "data": {
      "text/html": [
       "<div>\n",
       "<style scoped>\n",
       "    .dataframe tbody tr th:only-of-type {\n",
       "        vertical-align: middle;\n",
       "    }\n",
       "\n",
       "    .dataframe tbody tr th {\n",
       "        vertical-align: top;\n",
       "    }\n",
       "\n",
       "    .dataframe thead th {\n",
       "        text-align: right;\n",
       "    }\n",
       "</style>\n",
       "<table border=\"1\" class=\"dataframe\">\n",
       "  <thead>\n",
       "    <tr style=\"text-align: right;\">\n",
       "      <th></th>\n",
       "      <th>wordcount</th>\n",
       "      <th>orgshare</th>\n",
       "      <th>locshare</th>\n",
       "      <th>pershare</th>\n",
       "    </tr>\n",
       "  </thead>\n",
       "  <tbody>\n",
       "    <tr>\n",
       "      <th>count</th>\n",
       "      <td>13638.000000</td>\n",
       "      <td>13638.000000</td>\n",
       "      <td>13638.000000</td>\n",
       "      <td>13638.000000</td>\n",
       "    </tr>\n",
       "    <tr>\n",
       "      <th>mean</th>\n",
       "      <td>463.332087</td>\n",
       "      <td>0.019023</td>\n",
       "      <td>0.025948</td>\n",
       "      <td>0.028527</td>\n",
       "    </tr>\n",
       "    <tr>\n",
       "      <th>std</th>\n",
       "      <td>396.678431</td>\n",
       "      <td>0.017915</td>\n",
       "      <td>0.018870</td>\n",
       "      <td>0.019746</td>\n",
       "    </tr>\n",
       "    <tr>\n",
       "      <th>min</th>\n",
       "      <td>5.000000</td>\n",
       "      <td>0.000000</td>\n",
       "      <td>0.000000</td>\n",
       "      <td>0.000000</td>\n",
       "    </tr>\n",
       "    <tr>\n",
       "      <th>25%</th>\n",
       "      <td>220.000000</td>\n",
       "      <td>0.006486</td>\n",
       "      <td>0.013083</td>\n",
       "      <td>0.013889</td>\n",
       "    </tr>\n",
       "    <tr>\n",
       "      <th>50%</th>\n",
       "      <td>374.000000</td>\n",
       "      <td>0.014314</td>\n",
       "      <td>0.022305</td>\n",
       "      <td>0.025271</td>\n",
       "    </tr>\n",
       "    <tr>\n",
       "      <th>75%</th>\n",
       "      <td>606.000000</td>\n",
       "      <td>0.026724</td>\n",
       "      <td>0.034571</td>\n",
       "      <td>0.040000</td>\n",
       "    </tr>\n",
       "    <tr>\n",
       "      <th>max</th>\n",
       "      <td>6076.000000</td>\n",
       "      <td>0.230769</td>\n",
       "      <td>0.213592</td>\n",
       "      <td>0.230769</td>\n",
       "    </tr>\n",
       "  </tbody>\n",
       "</table>\n",
       "</div>"
      ],
      "text/plain": [
       "          wordcount      orgshare      locshare      pershare\n",
       "count  13638.000000  13638.000000  13638.000000  13638.000000\n",
       "mean     463.332087      0.019023      0.025948      0.028527\n",
       "std      396.678431      0.017915      0.018870      0.019746\n",
       "min        5.000000      0.000000      0.000000      0.000000\n",
       "25%      220.000000      0.006486      0.013083      0.013889\n",
       "50%      374.000000      0.014314      0.022305      0.025271\n",
       "75%      606.000000      0.026724      0.034571      0.040000\n",
       "max     6076.000000      0.230769      0.213592      0.230769"
      ]
     },
     "execution_count": 46,
     "metadata": {},
     "output_type": "execute_result"
    }
   ],
   "source": [
    "# Show descriptive statistics for complete data\n",
    "data.describe()"
   ]
  },
  {
   "cell_type": "code",
   "execution_count": 48,
   "metadata": {},
   "outputs": [],
   "source": [
    "# Drop examples with less than 100 words\n",
    "minwords = data['wordcount'] >= 100\n",
    "data = data[minwords]"
   ]
  },
  {
   "cell_type": "code",
   "execution_count": 49,
   "metadata": {},
   "outputs": [
    {
     "data": {
      "text/html": [
       "<div>\n",
       "<style scoped>\n",
       "    .dataframe tbody tr th:only-of-type {\n",
       "        vertical-align: middle;\n",
       "    }\n",
       "\n",
       "    .dataframe tbody tr th {\n",
       "        vertical-align: top;\n",
       "    }\n",
       "\n",
       "    .dataframe thead th {\n",
       "        text-align: right;\n",
       "    }\n",
       "</style>\n",
       "<table border=\"1\" class=\"dataframe\">\n",
       "  <thead>\n",
       "    <tr style=\"text-align: right;\">\n",
       "      <th></th>\n",
       "      <th>wordcount</th>\n",
       "      <th>orgshare</th>\n",
       "      <th>locshare</th>\n",
       "      <th>pershare</th>\n",
       "    </tr>\n",
       "  </thead>\n",
       "  <tbody>\n",
       "    <tr>\n",
       "      <th>count</th>\n",
       "      <td>12169.000000</td>\n",
       "      <td>12169.000000</td>\n",
       "      <td>12169.000000</td>\n",
       "      <td>12169.000000</td>\n",
       "    </tr>\n",
       "    <tr>\n",
       "      <th>mean</th>\n",
       "      <td>512.421070</td>\n",
       "      <td>0.017242</td>\n",
       "      <td>0.026205</td>\n",
       "      <td>0.027436</td>\n",
       "    </tr>\n",
       "    <tr>\n",
       "      <th>std</th>\n",
       "      <td>392.306351</td>\n",
       "      <td>0.014676</td>\n",
       "      <td>0.017653</td>\n",
       "      <td>0.017471</td>\n",
       "    </tr>\n",
       "    <tr>\n",
       "      <th>min</th>\n",
       "      <td>100.000000</td>\n",
       "      <td>0.000000</td>\n",
       "      <td>0.000000</td>\n",
       "      <td>0.000000</td>\n",
       "    </tr>\n",
       "    <tr>\n",
       "      <th>25%</th>\n",
       "      <td>278.000000</td>\n",
       "      <td>0.006443</td>\n",
       "      <td>0.013859</td>\n",
       "      <td>0.013921</td>\n",
       "    </tr>\n",
       "    <tr>\n",
       "      <th>50%</th>\n",
       "      <td>417.000000</td>\n",
       "      <td>0.013550</td>\n",
       "      <td>0.022556</td>\n",
       "      <td>0.024691</td>\n",
       "    </tr>\n",
       "    <tr>\n",
       "      <th>75%</th>\n",
       "      <td>645.000000</td>\n",
       "      <td>0.024768</td>\n",
       "      <td>0.034392</td>\n",
       "      <td>0.038710</td>\n",
       "    </tr>\n",
       "    <tr>\n",
       "      <th>max</th>\n",
       "      <td>6076.000000</td>\n",
       "      <td>0.161677</td>\n",
       "      <td>0.213592</td>\n",
       "      <td>0.124352</td>\n",
       "    </tr>\n",
       "  </tbody>\n",
       "</table>\n",
       "</div>"
      ],
      "text/plain": [
       "          wordcount      orgshare      locshare      pershare\n",
       "count  12169.000000  12169.000000  12169.000000  12169.000000\n",
       "mean     512.421070      0.017242      0.026205      0.027436\n",
       "std      392.306351      0.014676      0.017653      0.017471\n",
       "min      100.000000      0.000000      0.000000      0.000000\n",
       "25%      278.000000      0.006443      0.013859      0.013921\n",
       "50%      417.000000      0.013550      0.022556      0.024691\n",
       "75%      645.000000      0.024768      0.034392      0.038710\n",
       "max     6076.000000      0.161677      0.213592      0.124352"
      ]
     },
     "execution_count": 49,
     "metadata": {},
     "output_type": "execute_result"
    }
   ],
   "source": [
    "# Show descriptive statistics for subset data\n",
    "data.describe()"
   ]
  },
  {
   "cell_type": "code",
   "execution_count": 7,
   "metadata": {},
   "outputs": [],
   "source": [
    "# Split in test and train data. Random state set for reproducile results \n",
    "train=data.sample(frac=0.8,random_state=42)\n",
    "test=data.drop(train.index)"
   ]
  },
  {
   "cell_type": "code",
   "execution_count": 8,
   "metadata": {},
   "outputs": [
    {
     "data": {
      "text/html": [
       "<div>\n",
       "<style scoped>\n",
       "    .dataframe tbody tr th:only-of-type {\n",
       "        vertical-align: middle;\n",
       "    }\n",
       "\n",
       "    .dataframe tbody tr th {\n",
       "        vertical-align: top;\n",
       "    }\n",
       "\n",
       "    .dataframe thead th {\n",
       "        text-align: right;\n",
       "    }\n",
       "</style>\n",
       "<table border=\"1\" class=\"dataframe\">\n",
       "  <thead>\n",
       "    <tr style=\"text-align: right;\">\n",
       "      <th></th>\n",
       "      <th>wordcount</th>\n",
       "      <th>orgshare</th>\n",
       "      <th>locshare</th>\n",
       "      <th>pershare</th>\n",
       "    </tr>\n",
       "  </thead>\n",
       "  <tbody>\n",
       "    <tr>\n",
       "      <th>count</th>\n",
       "      <td>9735.000000</td>\n",
       "      <td>9735.000000</td>\n",
       "      <td>9735.000000</td>\n",
       "      <td>9735.000000</td>\n",
       "    </tr>\n",
       "    <tr>\n",
       "      <th>mean</th>\n",
       "      <td>510.790960</td>\n",
       "      <td>0.017266</td>\n",
       "      <td>0.026148</td>\n",
       "      <td>0.027501</td>\n",
       "    </tr>\n",
       "    <tr>\n",
       "      <th>std</th>\n",
       "      <td>392.225923</td>\n",
       "      <td>0.014761</td>\n",
       "      <td>0.017701</td>\n",
       "      <td>0.017613</td>\n",
       "    </tr>\n",
       "    <tr>\n",
       "      <th>min</th>\n",
       "      <td>100.000000</td>\n",
       "      <td>0.000000</td>\n",
       "      <td>0.000000</td>\n",
       "      <td>0.000000</td>\n",
       "    </tr>\n",
       "    <tr>\n",
       "      <th>25%</th>\n",
       "      <td>277.000000</td>\n",
       "      <td>0.006341</td>\n",
       "      <td>0.013834</td>\n",
       "      <td>0.013889</td>\n",
       "    </tr>\n",
       "    <tr>\n",
       "      <th>50%</th>\n",
       "      <td>416.000000</td>\n",
       "      <td>0.013598</td>\n",
       "      <td>0.022436</td>\n",
       "      <td>0.024730</td>\n",
       "    </tr>\n",
       "    <tr>\n",
       "      <th>75%</th>\n",
       "      <td>643.000000</td>\n",
       "      <td>0.024953</td>\n",
       "      <td>0.034372</td>\n",
       "      <td>0.038726</td>\n",
       "    </tr>\n",
       "    <tr>\n",
       "      <th>max</th>\n",
       "      <td>6076.000000</td>\n",
       "      <td>0.161677</td>\n",
       "      <td>0.213592</td>\n",
       "      <td>0.124352</td>\n",
       "    </tr>\n",
       "  </tbody>\n",
       "</table>\n",
       "</div>"
      ],
      "text/plain": [
       "         wordcount     orgshare     locshare     pershare\n",
       "count  9735.000000  9735.000000  9735.000000  9735.000000\n",
       "mean    510.790960     0.017266     0.026148     0.027501\n",
       "std     392.225923     0.014761     0.017701     0.017613\n",
       "min     100.000000     0.000000     0.000000     0.000000\n",
       "25%     277.000000     0.006341     0.013834     0.013889\n",
       "50%     416.000000     0.013598     0.022436     0.024730\n",
       "75%     643.000000     0.024953     0.034372     0.038726\n",
       "max    6076.000000     0.161677     0.213592     0.124352"
      ]
     },
     "execution_count": 8,
     "metadata": {},
     "output_type": "execute_result"
    }
   ],
   "source": [
    "# Show descriptive statistics for training data\n",
    "train.describe()"
   ]
  },
  {
   "cell_type": "code",
   "execution_count": 9,
   "metadata": {},
   "outputs": [
    {
     "data": {
      "text/html": [
       "<div>\n",
       "<style scoped>\n",
       "    .dataframe tbody tr th:only-of-type {\n",
       "        vertical-align: middle;\n",
       "    }\n",
       "\n",
       "    .dataframe tbody tr th {\n",
       "        vertical-align: top;\n",
       "    }\n",
       "\n",
       "    .dataframe thead th {\n",
       "        text-align: right;\n",
       "    }\n",
       "</style>\n",
       "<table border=\"1\" class=\"dataframe\">\n",
       "  <thead>\n",
       "    <tr style=\"text-align: right;\">\n",
       "      <th></th>\n",
       "      <th>wordcount</th>\n",
       "      <th>orgshare</th>\n",
       "      <th>locshare</th>\n",
       "      <th>pershare</th>\n",
       "    </tr>\n",
       "  </thead>\n",
       "  <tbody>\n",
       "    <tr>\n",
       "      <th>count</th>\n",
       "      <td>2434.000000</td>\n",
       "      <td>2434.000000</td>\n",
       "      <td>2434.000000</td>\n",
       "      <td>2434.000000</td>\n",
       "    </tr>\n",
       "    <tr>\n",
       "      <th>mean</th>\n",
       "      <td>518.940838</td>\n",
       "      <td>0.017148</td>\n",
       "      <td>0.026432</td>\n",
       "      <td>0.027173</td>\n",
       "    </tr>\n",
       "    <tr>\n",
       "      <th>std</th>\n",
       "      <td>392.640828</td>\n",
       "      <td>0.014335</td>\n",
       "      <td>0.017462</td>\n",
       "      <td>0.016892</td>\n",
       "    </tr>\n",
       "    <tr>\n",
       "      <th>min</th>\n",
       "      <td>100.000000</td>\n",
       "      <td>0.000000</td>\n",
       "      <td>0.000000</td>\n",
       "      <td>0.000000</td>\n",
       "    </tr>\n",
       "    <tr>\n",
       "      <th>25%</th>\n",
       "      <td>283.000000</td>\n",
       "      <td>0.006669</td>\n",
       "      <td>0.014038</td>\n",
       "      <td>0.014205</td>\n",
       "    </tr>\n",
       "    <tr>\n",
       "      <th>50%</th>\n",
       "      <td>420.500000</td>\n",
       "      <td>0.013405</td>\n",
       "      <td>0.022869</td>\n",
       "      <td>0.024547</td>\n",
       "    </tr>\n",
       "    <tr>\n",
       "      <th>75%</th>\n",
       "      <td>650.000000</td>\n",
       "      <td>0.023810</td>\n",
       "      <td>0.034454</td>\n",
       "      <td>0.038700</td>\n",
       "    </tr>\n",
       "    <tr>\n",
       "      <th>max</th>\n",
       "      <td>4480.000000</td>\n",
       "      <td>0.094650</td>\n",
       "      <td>0.142857</td>\n",
       "      <td>0.110000</td>\n",
       "    </tr>\n",
       "  </tbody>\n",
       "</table>\n",
       "</div>"
      ],
      "text/plain": [
       "         wordcount     orgshare     locshare     pershare\n",
       "count  2434.000000  2434.000000  2434.000000  2434.000000\n",
       "mean    518.940838     0.017148     0.026432     0.027173\n",
       "std     392.640828     0.014335     0.017462     0.016892\n",
       "min     100.000000     0.000000     0.000000     0.000000\n",
       "25%     283.000000     0.006669     0.014038     0.014205\n",
       "50%     420.500000     0.013405     0.022869     0.024547\n",
       "75%     650.000000     0.023810     0.034454     0.038700\n",
       "max    4480.000000     0.094650     0.142857     0.110000"
      ]
     },
     "execution_count": 9,
     "metadata": {},
     "output_type": "execute_result"
    }
   ],
   "source": [
    "# Show descriptive statistics for validation data\n",
    "test.describe()"
   ]
  },
  {
   "cell_type": "code",
   "execution_count": 51,
   "metadata": {},
   "outputs": [
    {
     "name": "stdout",
     "output_type": "stream",
     "text": [
      "politik       561\n",
      "sport         525\n",
      "wirtschaft    498\n",
      "leute         259\n",
      "panorama      244\n",
      "ratgeber       95\n",
      "wissen         83\n",
      "auto           66\n",
      "technik        65\n",
      "leben          38\n",
      "Name: label, dtype: int64\n"
     ]
    }
   ],
   "source": [
    "# Show class distribution in validation data\n",
    "print(test.label.value_counts())"
   ]
  },
  {
   "cell_type": "code",
   "execution_count": 52,
   "metadata": {},
   "outputs": [
    {
     "name": "stdout",
     "output_type": "stream",
     "text": [
      "politik       2280\n",
      "sport         2041\n",
      "wirtschaft    1813\n",
      "leute         1189\n",
      "panorama       984\n",
      "ratgeber       486\n",
      "wissen         349\n",
      "technik        238\n",
      "auto           190\n",
      "leben          165\n",
      "Name: label, dtype: int64\n"
     ]
    },
    {
     "data": {
      "image/png": "[encoded data removed]",
      "text/plain": [
       "<matplotlib.figure.Figure at 0x7f2fb0537550>"
      ]
     },
     "metadata": {},
     "output_type": "display_data"
    }
   ],
   "source": [
    "# Show and visualize class distribution in training data\n",
    "import seaborn as sns\n",
    "print(train.label.value_counts())\n",
    "ax = sns.countplot(x=\"label\", data=train)\n",
    "ax.set_xticklabels(ax.get_xticklabels(),rotation=30)\n",
    "fig = ax.get_figure()\n",
    "fig.savefig('init_class_distr.png',dpi=160, bbox_inches=\"tight\")"
   ]
  },
  {
   "cell_type": "markdown",
   "metadata": {},
   "source": [
    "## Data Preprocessing"
   ]
  },
  {
   "cell_type": "code",
   "execution_count": 13,
   "metadata": {},
   "outputs": [],
   "source": [
    "from sklearn.utils import resample\n",
    "# Separate majority and minority classes\n",
    "sport = train[train.label==\"sport\"]\n",
    "politik = train[train.label==\"politik\"]\n",
    "wirtschaft = train[train.label==\"wirtschaft\"]\n",
    "panorama = train[train.label==\"panorama\"]\n",
    "leute = train[train.label==\"leute\"]\n",
    "auto = train[train.label==\"auto\"]\n",
    "wissen = train[train.label==\"wissen\"]\n",
    "technik = train[train.label==\"technik\"]\n",
    "ratgeber = train[train.label==\"ratgeber\"]\n",
    "leben = train[train.label==\"leben\"]\n",
    "\n",
    "# Upsample minority class\n",
    "sport = resample(sport, replace=True, n_samples=1000, random_state=4711)\n",
    "politik = resample(politik, replace=True, n_samples=1000, random_state=4711)\n",
    "leute = resample(leute, replace=True, n_samples=1000, random_state=4711)\n",
    "wirtschaft = resample(wirtschaft, replace=True, n_samples=1000, random_state=4711)\n",
    "ratgeber = resample(ratgeber, replace=True, n_samples=900, random_state=4711)\n",
    "auto = resample(auto, replace=True, n_samples=350, random_state=4711)\n",
    "panorama = resample(panorama, replace=True, n_samples=1000, random_state=4711)\n",
    "wissen = resample(wissen, replace=True, n_samples=600, random_state=4711)\n",
    "technik = resample(technik, replace=True, n_samples=450, random_state=4711)\n",
    "leben = resample(leben, replace=True, n_samples=300, random_state=4711)\n",
    "train_upsampled = pandas.concat([sport,politik,wirtschaft,panorama,leute,auto,wissen,technik,ratgeber,leben])"
   ]
  },
  {
   "cell_type": "code",
   "execution_count": 14,
   "metadata": {},
   "outputs": [
    {
     "name": "stdout",
     "output_type": "stream",
     "text": [
      "wirtschaft    1000\n",
      "panorama      1000\n",
      "politik       1000\n",
      "sport         1000\n",
      "leute         1000\n",
      "ratgeber       900\n",
      "wissen         600\n",
      "technik        450\n",
      "auto           350\n",
      "leben          300\n",
      "Name: label, dtype: int64\n"
     ]
    },
    {
     "data": {
      "image/png": "[encoded data removed]",
      "text/plain": [
       "<matplotlib.figure.Figure at 0x7f300ae69a90>"
      ]
     },
     "metadata": {},
     "output_type": "display_data"
    }
   ],
   "source": [
    "# Show and visualize class distribution for resampled data \n",
    "print(train_upsampled.label.value_counts())\n",
    "lp = sns.countplot(x=\"label\", data=train_upsampled)\n",
    "lp.set_xticklabels(lp.get_xticklabels(),rotation=30)\n",
    "fig = lp.get_figure()\n",
    "fig.savefig('ups_class_distr.png',dpi=160, bbox_inches=\"tight\")"
   ]
  },
  {
   "cell_type": "code",
   "execution_count": 15,
   "metadata": {},
   "outputs": [],
   "source": [
    "# Extract predicition data and labels for training data\n",
    "train_x = train_upsampled['text']\n",
    "train_y = train_upsampled['label']\n",
    "# Extract additional data\n",
    "train_aux = train_upsampled.loc[:, ['orgshare', 'pershare','locshare']].as_matrix()\n",
    "\n",
    "# Repeat aboove steps for test data\n",
    "valid_x = test['text']\n",
    "valid_y = test['label']\n",
    "valid_aux = test.loc[:, ['orgshare', 'pershare','locshare']].as_matrix()\n"
   ]
  },
  {
   "cell_type": "markdown",
   "metadata": {},
   "source": [
    "Note: Parts of the code below are inspired by the following blog article: https://medium.com/@sabber/classifying-yelp-review-comments-using-cnn-lstm-and-pre-trained-glove-word-embeddings-part-3-53fcea9a17fa"
   ]
  },
  {
   "cell_type": "code",
   "execution_count": 16,
   "metadata": {},
   "outputs": [],
   "source": [
    "# Transform target values (labels/string) to categorical numerical data\n",
    "encoder = preprocessing.LabelEncoder()\n",
    "train_y = encoder.fit_transform(train_y)\n",
    "valid_y = encoder.fit_transform(valid_y)\n",
    "dummy_train_y = np_utils.to_categorical(train_y)\n",
    "dummy_valid_y = np_utils.to_categorical(valid_y)"
   ]
  },
  {
   "cell_type": "code",
   "execution_count": 18,
   "metadata": {},
   "outputs": [],
   "source": [
    "# Import fast-text vectors\n",
    "# Try-catch block used for skipping examples with faulty encoding\n",
    "embeddings_index = {}\n",
    "for i, line in enumerate(open('./embeddings/wiki.de.vec',encoding=\"utf-8\")):\n",
    "    values = line.split()\n",
    "    try:\n",
    "        embeddings_index[values[0]] = numpy.asarray(values[1:], dtype='float32')\n",
    "    except ValueError:\n",
    "        continue\n"
   ]
  },
  {
   "cell_type": "code",
   "execution_count": 19,
   "metadata": {},
   "outputs": [],
   "source": [
    "# Create tokenizer\n",
    "token = text.Tokenizer()\n",
    "token.fit_on_texts(train['text'])\n",
    "word_index = token.word_index"
   ]
  },
  {
   "cell_type": "code",
   "execution_count": 20,
   "metadata": {},
   "outputs": [],
   "source": [
    "# Text is converted to sequence. Padding to ensure equal vector length of 700\n",
    "train_seq_x = sequence.pad_sequences(token.texts_to_sequences(train_x), maxlen=700)\n",
    "valid_seq_x = sequence.pad_sequences(token.texts_to_sequences(valid_x), maxlen=700)"
   ]
  },
  {
   "cell_type": "code",
   "execution_count": 22,
   "metadata": {},
   "outputs": [],
   "source": [
    "# Token-embedding-matrix\n",
    "embedding_matrix = numpy.zeros((len(word_index) + 1, 300))\n",
    "for word, i in word_index.items():\n",
    "    embedding_vector = embeddings_index.get(word)\n",
    "    if embedding_vector is not None:\n",
    "        embedding_matrix[i] = embedding_vector"
   ]
  },
  {
   "cell_type": "code",
   "execution_count": 25,
   "metadata": {
    "scrolled": false
   },
   "outputs": [],
   "source": [
    "# Convolutional Neural Network, using Keras functional API\n",
    "# Create Input layer. Dimensionality must correspond to length of text vectors.\n",
    "input_layer = layers.Input((700, ))\n",
    "\n",
    "# Word embedding layer\n",
    "embedding_layer = layers.Embedding(len(word_index) + 1, 300, weights=[embedding_matrix], trainable=False)(input_layer)\n",
    "# Dropout layer to avoid overfitting. => Optimizable Hyperparameter!\n",
    "embedding_layer = layers.SpatialDropout1D(0.5)(embedding_layer)\n",
    "\n",
    "# Convolutional Layer => Filter, Neighborhood size and activation function are optimizable hyperparameters!\n",
    "conv_layer = layers.Convolution1D(100, 7, activation=\"relu\")(embedding_layer)\n",
    "\n",
    "# Pooling Layer\n",
    "pooling_layer = layers.GlobalMaxPool1D()(conv_layer)\n",
    "\n",
    "# Add the auxiliary input for additional data. Dimensionality must correspond to the number of additional features.\n",
    "auxiliary_input = layers.Input(shape=(3,), name='aux_input')\n",
    "# Output Layer\n",
    "output_layer1 = layers.concatenate([pooling_layer, auxiliary_input])\n",
    "output_layer2 = layers.Dense(10, activation=\"sigmoid\")(output_layer1)\n",
    "# => Activation function is optimizable hyperparameter.\n",
    "\n",
    "# Model compilation\n",
    "model = models.Model(inputs=[input_layer,auxiliary_input], outputs=output_layer2)\n",
    "sgd = optimizers.SGD(lr=0.1, momentum=0.8, decay=0.1/30)\n",
    "# => Optimizer is optimizable hyperparameter.\n",
    "\n",
    "# Define early stoping based on validation loss. Saves intermediate models, if val_loss is better than previous ones.\n",
    "callbacks = [EarlyStopping(monitor='val_loss', patience=5), ModelCheckpoint(filepath='best_model_nosw.h5', monitor='val_loss', save_best_only=True)]\n",
    "model.compile(optimizer=sgd, loss='categorical_crossentropy')\n",
    "\n"
   ]
  },
  {
   "cell_type": "markdown",
   "metadata": {},
   "source": [
    "## Network Training\n",
    "\n",
    "** NOTE: ** If the code below has been executed before, you can skip the training and proceed with line 27."
   ]
  },
  {
   "cell_type": "code",
   "execution_count": 26,
   "metadata": {},
   "outputs": [
    {
     "name": "stdout",
     "output_type": "stream",
     "text": [
      "Train on 7600 samples, validate on 2434 samples\n",
      "Epoch 1/40\n",
      "7600/7600 [==============================] - 68s 9ms/step - loss: 1.7864 - val_loss: 1.0992\n",
      "Epoch 2/40\n",
      "7600/7600 [==============================] - 71s 9ms/step - loss: 0.9948 - val_loss: 0.4846\n",
      "Epoch 3/40\n",
      "7600/7600 [==============================] - 70s 9ms/step - loss: 0.4139 - val_loss: 0.4527\n",
      "Epoch 4/40\n",
      "7600/7600 [==============================] - 71s 9ms/step - loss: 0.2902 - val_loss: 0.4336\n",
      "Epoch 5/40\n",
      "7600/7600 [==============================] - 70s 9ms/step - loss: 0.2188 - val_loss: 0.3644\n",
      "Epoch 6/40\n",
      "7600/7600 [==============================] - 70s 9ms/step - loss: 0.1668 - val_loss: 0.3452\n",
      "Epoch 7/40\n",
      "7600/7600 [==============================] - 71s 9ms/step - loss: 0.1331 - val_loss: 0.3981\n",
      "Epoch 8/40\n",
      "7600/7600 [==============================] - 71s 9ms/step - loss: 0.1117 - val_loss: 0.3693\n",
      "Epoch 9/40\n",
      "7600/7600 [==============================] - 72s 9ms/step - loss: 0.1036 - val_loss: 0.3498\n",
      "Epoch 10/40\n",
      "7600/7600 [==============================] - 72s 9ms/step - loss: 0.0858 - val_loss: 0.3447\n",
      "Epoch 11/40\n",
      "7600/7600 [==============================] - 71s 9ms/step - loss: 0.0779 - val_loss: 0.3533\n",
      "Epoch 12/40\n",
      "7600/7600 [==============================] - 72s 9ms/step - loss: 0.0688 - val_loss: 0.3643\n",
      "Epoch 13/40\n",
      "7600/7600 [==============================] - 72s 9ms/step - loss: 0.0630 - val_loss: 0.3623\n",
      "Epoch 14/40\n",
      "7600/7600 [==============================] - 72s 9ms/step - loss: 0.0596 - val_loss: 0.3764\n",
      "Epoch 15/40\n",
      "7600/7600 [==============================] - 72s 9ms/step - loss: 0.0513 - val_loss: 0.3487\n"
     ]
    }
   ],
   "source": [
    "# Training\n",
    "history = model.fit([train_seq_x,train_aux], dummy_train_y, epochs=40, validation_data=([valid_seq_x,valid_aux],dummy_valid_y), callbacks=callbacks)"
   ]
  },
  {
   "cell_type": "code",
   "execution_count": 27,
   "metadata": {},
   "outputs": [],
   "source": [
    "model.load_weights(\"best_model_nosw.h5\")"
   ]
  },
  {
   "cell_type": "code",
   "execution_count": 28,
   "metadata": {},
   "outputs": [],
   "source": [
    "# predict the labels on validation dataset\n",
    "predictions = model.predict([valid_seq_x,valid_aux])    \n",
    "predictions = predictions.argmax(axis=-1)"
   ]
  },
  {
   "cell_type": "code",
   "execution_count": 29,
   "metadata": {},
   "outputs": [
    {
     "name": "stdout",
     "output_type": "stream",
     "text": [
      "dict_keys(['val_loss', 'loss'])\n"
     ]
    },
    {
     "data": {
      "image/png": "[encoded data removed]",
      "text/plain": [
       "<matplotlib.figure.Figure at 0x7f2fc83b9a58>"
      ]
     },
     "metadata": {},
     "output_type": "display_data"
    }
   ],
   "source": [
    "# visualize loss history\n",
    "plt.plot(history.history['loss'])\n",
    "plt.plot(history.history['val_loss'])\n",
    "plt.title('model loss')\n",
    "plt.ylabel('loss')\n",
    "plt.xlabel('epoch')\n",
    "plt.legend(['train', 'test'], loc='upper left')\n",
    "plt.savefig(\"modelloss.png\",dpi=250)\n",
    "plt.show()\n"
   ]
  },
  {
   "cell_type": "markdown",
   "metadata": {},
   "source": [
    "## Model evaluation"
   ]
  },
  {
   "cell_type": "markdown",
   "metadata": {},
   "source": [
    "** Confusion Matrix**"
   ]
  },
  {
   "cell_type": "code",
   "execution_count": 30,
   "metadata": {},
   "outputs": [
    {
     "name": "stdout",
     "output_type": "stream",
     "text": [
      "[[0.91 0.   0.   0.02 0.   0.   0.   0.   0.08 0.  ]\n",
      " [0.   0.42 0.29 0.16 0.03 0.03 0.   0.03 0.   0.05]\n",
      " [0.   0.   0.95 0.02 0.01 0.   0.01 0.   0.   0.  ]\n",
      " [0.   0.01 0.08 0.75 0.09 0.01 0.02 0.01 0.02 0.02]\n",
      " [0.   0.   0.01 0.05 0.86 0.   0.   0.   0.06 0.  ]\n",
      " [0.01 0.   0.01 0.02 0.   0.84 0.   0.01 0.07 0.03]\n",
      " [0.   0.   0.   0.   0.   0.   1.   0.   0.   0.  ]\n",
      " [0.   0.   0.02 0.   0.   0.   0.   0.94 0.05 0.  ]\n",
      " [0.01 0.   0.   0.01 0.03 0.03 0.   0.01 0.92 0.  ]\n",
      " [0.01 0.01 0.   0.08 0.01 0.04 0.   0.01 0.02 0.81]]\n"
     ]
    }
   ],
   "source": [
    "cm = metrics.confusion_matrix(valid_y, predictions)\n",
    "cr = metrics.classification_report(valid_y, predictions)\n",
    "# Standardize confusion matrix because of class imbalance\n",
    "cm = cm.astype('float') / cm.sum(axis=1)[:, np.newaxis]\n",
    "np.set_printoptions(precision=2)\n",
    "print(cm)"
   ]
  },
  {
   "cell_type": "markdown",
   "metadata": {},
   "source": [
    "** Precision, Recall and F1 per class **"
   ]
  },
  {
   "cell_type": "code",
   "execution_count": 31,
   "metadata": {},
   "outputs": [
    {
     "name": "stdout",
     "output_type": "stream",
     "text": [
      "             precision    recall  f1-score   support\n",
      "\n",
      "          0       0.92      0.91      0.92        66\n",
      "          1       0.80      0.42      0.55        38\n",
      "          2       0.85      0.95      0.90       259\n",
      "          3       0.76      0.75      0.75       244\n",
      "          4       0.92      0.86      0.89       561\n",
      "          5       0.78      0.84      0.81        95\n",
      "          6       0.98      1.00      0.99       525\n",
      "          7       0.85      0.94      0.89        65\n",
      "          8       0.89      0.92      0.90       498\n",
      "          9       0.85      0.81      0.83        83\n",
      "\n",
      "avg / total       0.89      0.89      0.89      2434\n",
      "\n"
     ]
    }
   ],
   "source": [
    "print(cr)"
   ]
  },
  {
   "cell_type": "markdown",
   "metadata": {},
   "source": [
    "** Visualization of Classification report **\n",
    "\n",
    "Code provided by Franck Dernoncourt on StackOverflow: https://stackoverflow.com/a/34304414"
   ]
  },
  {
   "cell_type": "code",
   "execution_count": 32,
   "metadata": {},
   "outputs": [],
   "source": [
    "def show_values(pc, fmt=\"%.2f\", **kw):\n",
    "    '''\n",
    "    Heatmap with text in each cell with matplotlib's pyplot\n",
    "    Source: https://stackoverflow.com/a/25074150/395857 \n",
    "    By HYRY\n",
    "    '''\n",
    "    pc.update_scalarmappable()\n",
    "    ax = pc.axes\n",
    "    for p, color, value in zip(pc.get_paths(), pc.get_facecolors(), pc.get_array()):\n",
    "        x, y = p.vertices[:-2, :].mean(0)\n",
    "        if np.all(color[:3] > 0.5):\n",
    "            color = (0.0, 0.0, 0.0)\n",
    "        else:\n",
    "            color = (1.0, 1.0, 1.0)\n",
    "        ax.text(x, y, fmt % value, ha=\"center\", va=\"center\", color=color, **kw)\n",
    "\n",
    "\n",
    "def cm2inch(*tupl):\n",
    "    '''\n",
    "    Specify figure size in centimeter in matplotlib\n",
    "    Source: https://stackoverflow.com/a/22787457/395857\n",
    "    By gns-ank\n",
    "    '''\n",
    "    inch = 2.54\n",
    "    if type(tupl[0]) == tuple:\n",
    "        return tuple(i/inch for i in tupl[0])\n",
    "    else:\n",
    "        return tuple(i/inch for i in tupl)\n",
    "\n",
    "\n",
    "def heatmap(AUC, title, xlabel, ylabel, xticklabels, yticklabels, figure_width=40, figure_height=20, correct_orientation=False, cmap='RdBu'):\n",
    "    '''\n",
    "    Inspired by:\n",
    "    - https://stackoverflow.com/a/16124677/395857 \n",
    "    - https://stackoverflow.com/a/25074150/395857\n",
    "    '''\n",
    "\n",
    "    # Plot it out\n",
    "    fig, ax = plt.subplots()    \n",
    "    c = ax.pcolor(AUC, edgecolors='k', linestyle= 'dashed', linewidths=0.2, cmap='RdBu', vmin=0.0, vmax=1.0)\n",
    "    #c = ax.pcolor(AUC, edgecolors='k', linestyle= 'dashed', linewidths=0.2, cmap=cmap)\n",
    "\n",
    "    # put the major ticks at the middle of each cell\n",
    "    ax.set_yticks(np.arange(AUC.shape[0]) + 0.5, minor=False)\n",
    "    ax.set_xticks(np.arange(AUC.shape[1]) + 0.5, minor=False)\n",
    "\n",
    "    # set tick labels\n",
    "    #ax.set_xticklabels(np.arange(1,AUC.shape[1]+1), minor=False)\n",
    "    ax.set_xticklabels(xticklabels, minor=False)\n",
    "    ax.set_yticklabels(yticklabels, minor=False)\n",
    "\n",
    "    # set title and x/y labels\n",
    "    plt.title(title)\n",
    "    plt.xlabel(xlabel)\n",
    "    plt.ylabel(ylabel)      \n",
    "\n",
    "    # Remove last blank column\n",
    "    plt.xlim( (0, AUC.shape[1]) )\n",
    "\n",
    "    # Turn off all the ticks\n",
    "    ax = plt.gca()    \n",
    "    for t in ax.xaxis.get_major_ticks():\n",
    "        t.tick1On = False\n",
    "        t.tick2On = False\n",
    "    for t in ax.yaxis.get_major_ticks():\n",
    "        t.tick1On = False\n",
    "        t.tick2On = False\n",
    "\n",
    "    # Add color bar\n",
    "    plt.colorbar(c)\n",
    "\n",
    "    # Add text in each cell \n",
    "    show_values(c)\n",
    "\n",
    "    # Proper orientation (origin at the top left instead of bottom left)\n",
    "    if correct_orientation:\n",
    "        ax.invert_yaxis()\n",
    "        ax.xaxis.tick_top()       \n",
    "\n",
    "    # resize \n",
    "    fig = plt.gcf()\n",
    "    #fig.set_size_inches(cm2inch(40, 20))\n",
    "    #fig.set_size_inches(cm2inch(40*4, 20*4))\n",
    "    fig.set_size_inches(cm2inch(figure_width, figure_height))\n",
    "\n",
    "\n",
    "\n",
    "def plot_classification_report(classification_report, title='Classification report ', cmap='RdBu'):\n",
    "    '''\n",
    "    Plot scikit-learn classification report.\n",
    "    Extension based on https://stackoverflow.com/a/31689645/395857 \n",
    "    '''\n",
    "    lines = classification_report.split('\\n')\n",
    "\n",
    "    classes = []\n",
    "    plotMat = []\n",
    "    support = []\n",
    "    class_names = []\n",
    "    for line in lines[2 : (len(lines) - 2)]:\n",
    "        t = line.strip().split()\n",
    "        if len(t) < 2: continue\n",
    "        classes.append(t[0])\n",
    "        v = [float(x) for x in t[1: len(t) - 1]]\n",
    "        support.append(int(t[-1]))\n",
    "        class_names.append(t[0])\n",
    "        print(v)\n",
    "        plotMat.append(v)\n",
    "    class_names = ['auto', 'leben', 'leute', 'panorama', 'politik', 'ratgeber','sport', 'technik', 'wirtschaft', 'wissen']\n",
    "    print('plotMat: {0}'.format(plotMat))\n",
    "    print('support: {0}'.format(support))\n",
    "\n",
    "    xlabel = 'Metrics'\n",
    "    ylabel = 'Classes'\n",
    "    xticklabels = ['Precision', 'Recall', 'F1-score']\n",
    "    yticklabels = ['{0} ({1})'.format(class_names[idx], sup) for idx, sup  in enumerate(support)]\n",
    "    figure_width = 25\n",
    "    figure_height = len(class_names) + 7\n",
    "    correct_orientation = False\n",
    "    heatmap(np.array(plotMat), title, xlabel, ylabel, xticklabels, yticklabels, figure_width, figure_height, correct_orientation, cmap=cmap)"
   ]
  },
  {
   "cell_type": "markdown",
   "metadata": {},
   "source": [
    "** Classification Report for Model **"
   ]
  },
  {
   "cell_type": "code",
   "execution_count": 33,
   "metadata": {},
   "outputs": [
    {
     "name": "stdout",
     "output_type": "stream",
     "text": [
      "[0.92, 0.91, 0.92]\n",
      "[0.8, 0.42, 0.55]\n",
      "[0.85, 0.95, 0.9]\n",
      "[0.76, 0.75, 0.75]\n",
      "[0.92, 0.86, 0.89]\n",
      "[0.78, 0.84, 0.81]\n",
      "[0.98, 1.0, 0.99]\n",
      "[0.85, 0.94, 0.89]\n",
      "[0.89, 0.92, 0.9]\n",
      "[0.85, 0.81, 0.83]\n",
      "plotMat: [[0.92, 0.91, 0.92], [0.8, 0.42, 0.55], [0.85, 0.95, 0.9], [0.76, 0.75, 0.75], [0.92, 0.86, 0.89], [0.78, 0.84, 0.81], [0.98, 1.0, 0.99], [0.85, 0.94, 0.89], [0.89, 0.92, 0.9], [0.85, 0.81, 0.83]]\n",
      "support: [66, 38, 259, 244, 561, 95, 525, 65, 498, 83]\n"
     ]
    },
    {
     "data": {
      "image/png": "[encoded data removed]",
      "text/plain": [
       "<matplotlib.figure.Figure at 0x7f2fc83b99b0>"
      ]
     },
     "metadata": {},
     "output_type": "display_data"
    }
   ],
   "source": [
    "plot_classification_report(cr, title=\"CNN\")\n",
    "plt.savefig('test_plot_classif_report.png', dpi=200, format='png', bbox_inches='tight')\n",
    "plt.show()\n",
    "plt.close()"
   ]
  },
  {
   "cell_type": "markdown",
   "metadata": {},
   "source": [
    "** Determining encoding of labels **"
   ]
  },
  {
   "cell_type": "code",
   "execution_count": 34,
   "metadata": {},
   "outputs": [
    {
     "name": "stderr",
     "output_type": "stream",
     "text": [
      "/home/jochens/anaconda3/lib/python3.6/site-packages/sklearn/preprocessing/label.py:151: DeprecationWarning: The truth value of an empty array is ambiguous. Returning False, but in future this will result in an error. Use `array.size > 0` to check that an array is not empty.\n",
      "  if diff:\n"
     ]
    },
    {
     "data": {
      "text/plain": [
       "array(['auto', 'leben', 'leute', 'panorama', 'politik', 'ratgeber',\n",
       "       'sport', 'technik', 'wirtschaft', 'wissen'], dtype=object)"
      ]
     },
     "execution_count": 34,
     "metadata": {},
     "output_type": "execute_result"
    }
   ],
   "source": [
    "cm_lab = encoder.inverse_transform([0,1,2,3,4,5,6,7,8,9])\n",
    "cm_lab"
   ]
  },
  {
   "cell_type": "markdown",
   "metadata": {},
   "source": [
    "** Visualizaiton of normalized Confusion Matrix **"
   ]
  },
  {
   "cell_type": "code",
   "execution_count": 35,
   "metadata": {},
   "outputs": [
    {
     "data": {
      "image/png": "[encoded data removed]",
      "text/plain": [
       "<matplotlib.figure.Figure at 0x7f2fc83b9978>"
      ]
     },
     "metadata": {},
     "output_type": "display_data"
    }
   ],
   "source": [
    "df_cm = pandas.DataFrame(cm, cm_lab,\n",
    "                  columns = cm_lab)\n",
    "plt.figure(figsize = (10,7))\n",
    "cm_plot = sns.heatmap(df_cm, annot=True, cmap=sns.color_palette(\"Blues\"))\n",
    "cm_plot = cm_plot.get_figure()\n",
    "cm_plot.savefig('confusion_matrix.png',dpi=160, bbox_inches=\"tight\")"
   ]
  },
  {
   "cell_type": "markdown",
   "metadata": {},
   "source": [
    "** Performance Metrics of the Model **"
   ]
  },
  {
   "cell_type": "code",
   "execution_count": 36,
   "metadata": {},
   "outputs": [
    {
     "name": "stdout",
     "output_type": "stream",
     "text": [
      "Model:\n",
      "Accuracy:\t 0.8927691043549713 \n",
      "F1-Measure:\t [0.92 0.55 0.9  0.75 0.89 0.81 0.99 0.89 0.9  0.83] \n",
      "F1 micro:\t 0.8927691043549713 \n",
      "F1 macro:\t 0.8426665688667931\n"
     ]
    }
   ],
   "source": [
    "accuracy = metrics.accuracy_score(valid_y,predictions)\n",
    "f1 = metrics.f1_score(valid_y,predictions, average=None)\n",
    "f1_mi = metrics.f1_score(valid_y,predictions, average=\"micro\")\n",
    "f1_ma = metrics.f1_score(valid_y,predictions, average=\"macro\")\n",
    "\n",
    "print(\"Model:\\nAccuracy:\\t\",  accuracy,\"\\nF1-Measure:\\t\",f1,\"\\nF1 micro:\\t\",f1_mi,\"\\nF1 macro:\\t\",f1_ma)"
   ]
  },
  {
   "cell_type": "markdown",
   "metadata": {},
   "source": [
    "## Baseline Models"
   ]
  },
  {
   "cell_type": "code",
   "execution_count": 55,
   "metadata": {},
   "outputs": [
    {
     "name": "stdout",
     "output_type": "stream",
     "text": [
      "Random Baseline:\n",
      "Accuracy:\t 0.0932621199671323 \n",
      "F1-Measure:\t [0.92 0.55 0.9  0.75 0.89 0.81 0.99 0.89 0.9  0.83] \n",
      "F1 micro:\t 0.0932621199671323 \n",
      "F1 macro:\t 0.07760496540184812\n"
     ]
    }
   ],
   "source": [
    "# Random baseline\n",
    "random = np.random.randint(low=0,high=10, size=len(valid_y))\n",
    "rnd_accuracy = metrics.accuracy_score(valid_y,random)\n",
    "rnd_f1 = metrics.f1_score(valid_y,random, average=None)\n",
    "f1 = metrics.f1_score(valid_y,predictions, average=None)\n",
    "f1_mi = metrics.f1_score(valid_y,random, average=\"micro\")\n",
    "f1_ma = metrics.f1_score(valid_y,random, average=\"macro\")\n",
    "\n",
    "print(\"Random Baseline:\\nAccuracy:\\t\", rnd_accuracy,\"\\nF1-Measure:\\t\",f1,\"\\nF1 micro:\\t\",f1_mi,\"\\nF1 macro:\\t\",f1_ma)"
   ]
  },
  {
   "cell_type": "code",
   "execution_count": 38,
   "metadata": {},
   "outputs": [
    {
     "name": "stdout",
     "output_type": "stream",
     "text": [
      "Majority Baseline:\n",
      "Accuracy:\t 0.2304847986852917 \n",
      "F1-Measure:\t [0.92 0.55 0.9  0.75 0.89 0.81 0.99 0.89 0.9  0.83] \n",
      "F1 micro:\t 0.2304847986852917 \n",
      "F1 macro:\t 0.03746243739565943\n"
     ]
    },
    {
     "name": "stderr",
     "output_type": "stream",
     "text": [
      "/home/jochens/anaconda3/lib/python3.6/site-packages/sklearn/metrics/classification.py:1135: UndefinedMetricWarning: F-score is ill-defined and being set to 0.0 in labels with no predicted samples.\n",
      "  'precision', 'predicted', average, warn_for)\n"
     ]
    }
   ],
   "source": [
    "# Majority class baseline\n",
    "majority = np.full((len(valid_y)), 4, dtype=int)\n",
    "maj_accuracy = metrics.accuracy_score(valid_y,majority)\n",
    "maj_f1 = metrics.f1_score(valid_y,majority, average=None)\n",
    "f1_mi = metrics.f1_score(valid_y,majority, average=\"micro\")\n",
    "f1_ma = metrics.f1_score(valid_y,majority, average=\"macro\")\n",
    "\n",
    "print(\"Majority Baseline:\\nAccuracy:\\t\",  maj_accuracy,\"\\nF1-Measure:\\t\",f1,\"\\nF1 micro:\\t\",f1_mi,\"\\nF1 macro:\\t\",f1_ma)"
   ]
  },
  {
   "cell_type": "markdown",
   "metadata": {},
   "source": [
    "** Classification Report for baseline models **"
   ]
  },
  {
   "cell_type": "code",
   "execution_count": 39,
   "metadata": {},
   "outputs": [
    {
     "name": "stderr",
     "output_type": "stream",
     "text": [
      "/home/jochens/anaconda3/lib/python3.6/site-packages/sklearn/metrics/classification.py:1135: UndefinedMetricWarning: Precision and F-score are ill-defined and being set to 0.0 in labels with no predicted samples.\n",
      "  'precision', 'predicted', average, warn_for)\n"
     ]
    }
   ],
   "source": [
    "cr_random = metrics.classification_report(valid_y, random)\n",
    "cr_majority = metrics.classification_report(valid_y, majority)"
   ]
  },
  {
   "cell_type": "code",
   "execution_count": 40,
   "metadata": {},
   "outputs": [
    {
     "name": "stdout",
     "output_type": "stream",
     "text": [
      "[0.05, 0.18, 0.07]\n",
      "[0.0, 0.03, 0.01]\n",
      "[0.14, 0.13, 0.14]\n",
      "[0.1, 0.09, 0.1]\n",
      "[0.27, 0.12, 0.17]\n",
      "[0.02, 0.05, 0.03]\n",
      "[0.2, 0.1, 0.13]\n",
      "[0.02, 0.09, 0.04]\n",
      "[0.28, 0.14, 0.19]\n",
      "[0.05, 0.13, 0.07]\n",
      "plotMat: [[0.05, 0.18, 0.07], [0.0, 0.03, 0.01], [0.14, 0.13, 0.14], [0.1, 0.09, 0.1], [0.27, 0.12, 0.17], [0.02, 0.05, 0.03], [0.2, 0.1, 0.13], [0.02, 0.09, 0.04], [0.28, 0.14, 0.19], [0.05, 0.13, 0.07]]\n",
      "support: [66, 38, 259, 244, 561, 95, 525, 65, 498, 83]\n"
     ]
    },
    {
     "data": {
      "image/png": "[encoded data removed]",
      "text/plain": [
       "<matplotlib.figure.Figure at 0x7f2fc83b91d0>"
      ]
     },
     "metadata": {},
     "output_type": "display_data"
    }
   ],
   "source": [
    "plot_classification_report(cr_random, title=\"Random prediction\")\n",
    "plt.savefig('cr_random.png', dpi=200, format='png', bbox_inches='tight')\n",
    "plt.show()\n",
    "plt.close()"
   ]
  },
  {
   "cell_type": "code",
   "execution_count": 41,
   "metadata": {},
   "outputs": [
    {
     "name": "stdout",
     "output_type": "stream",
     "text": [
      "[0.0, 0.0, 0.0]\n",
      "[0.0, 0.0, 0.0]\n",
      "[0.0, 0.0, 0.0]\n",
      "[0.0, 0.0, 0.0]\n",
      "[0.23, 1.0, 0.37]\n",
      "[0.0, 0.0, 0.0]\n",
      "[0.0, 0.0, 0.0]\n",
      "[0.0, 0.0, 0.0]\n",
      "[0.0, 0.0, 0.0]\n",
      "[0.0, 0.0, 0.0]\n",
      "plotMat: [[0.0, 0.0, 0.0], [0.0, 0.0, 0.0], [0.0, 0.0, 0.0], [0.0, 0.0, 0.0], [0.23, 1.0, 0.37], [0.0, 0.0, 0.0], [0.0, 0.0, 0.0], [0.0, 0.0, 0.0], [0.0, 0.0, 0.0], [0.0, 0.0, 0.0]]\n",
      "support: [66, 38, 259, 244, 561, 95, 525, 65, 498, 83]\n"
     ]
    },
    {
     "data": {
      "image/png": "[encoded data removed]",
      "text/plain": [
       "<matplotlib.figure.Figure at 0x7f304a97b400>"
      ]
     },
     "metadata": {},
     "output_type": "display_data"
    }
   ],
   "source": [
    "plot_classification_report(cr_majority, title=\"Majority class prediction\")\n",
    "plt.savefig('cr_majority.png', dpi=200, format='png', bbox_inches='tight')\n",
    "plt.show()\n",
    "plt.close()"
   ]
  },
  {
   "cell_type": "markdown",
   "metadata": {},
   "source": [
    "## GUI"
   ]
  },
  {
   "cell_type": "code",
   "execution_count": 3,
   "metadata": {},
   "outputs": [],
   "source": [
    "from tkinter import *\n",
    "\n",
    "sw =  set(stopwords.words('german'))\n",
    "punct = r'!\"§$%&/-()=?{[]}:,.\\```\\''\n",
    "class_decode = ['auto', 'leben', 'leute', 'panorama', 'politik', 'ratgeber',\n",
    "       'sport', 'technik', 'wirtschaft', 'wissen']\n",
    "\n",
    "root=Tk()\n",
    "root.title(\"TopXtract Version: 0.0.2 Alpha\")\n",
    "def retrieve_input():\n",
    "    sent_in=textBox.get(\"1.0\",\"end-1c\")\n",
    "    word_tokens_class = nltk.word_tokenize(sent_in)\n",
    "    fs_class = [w for w in word_tokens_class if (not w in sw) and (not w in punct)]\n",
    "    fs_class = \" \".join(fs_class)\n",
    "    nes_class = []\n",
    "    for i in lng_model(fs_class).ents:\n",
    "        nes_class.append(i.label_)\n",
    "    wc_class = len(fs_class.split())\n",
    "    orgshare_class = (nes_class.count(\"ORG\")/wc_class)\n",
    "    pershare_class = (nes_class.count(\"PER\")/wc_class)\n",
    "    locshare_class = (nes_class.count(\"LOC\")/wc_class)\n",
    "    vc = sequence.pad_sequences(token.texts_to_sequences(pandas.Series(fs_class)), maxlen=700)\n",
    "    class_aux = np.asarray([orgshare_class,pershare_class,locshare_class])\n",
    "    class_aux = np.reshape(class_aux,(1,3))\n",
    "    #class_aux = np.expand_dims(class_aux[0], axis=0)\n",
    "    class_pred = model.predict([vc,class_aux],steps=1)    \n",
    "    class_pred = class_pred.argmax(axis=-1)\n",
    "    pred_label = class_decode[class_pred[0]]\n",
    "    messagebox.showinfo(\"Result\", \"Your input was classified as belonging to:\\n\"+pred_label)\n",
    "\n",
    "def about():\n",
    "    messagebox.showinfo(\"About\",\"TopXtract is experimental software indended for scientific purposes only. \\nDo not use in productive environments.\\n\\n(c) 2019 - Jochen Schäfer\\nUniversity of Linköping, Sweden\")\n",
    "\n",
    "textBox=Text(root, height=50, width=200)\n",
    "textBox.pack()\n",
    "buttonCommit=Button(root, height=1, width=10, text=\"Commit\", \n",
    "                    command=lambda: retrieve_input())\n",
    "\n",
    "buttonAbout=Button(root, height=1, width=10, text=\"About\", \n",
    "                    command=lambda: about())\n",
    "#command=lambda: retrieve_input() >>> just means do this when i press the button\n",
    "buttonCommit.pack()\n",
    "buttonAbout.pack()\n",
    "mainloop()"
   ]
  },
  {
   "cell_type": "code",
   "execution_count": null,
   "metadata": {},
   "outputs": [],
   "source": []
  }
 ],
 "metadata": {
  "kernelspec": {
   "display_name": "Python 3",
   "language": "python",
   "name": "python3"
  },
  "language_info": {
   "codemirror_mode": {
    "name": "ipython",
    "version": 3
   },
   "file_extension": ".py",
   "mimetype": "text/x-python",
   "name": "python",
   "nbconvert_exporter": "python",
   "pygments_lexer": "ipython3",
   "version": "3.6.4"
  }
 },
 "nbformat": 4,
 "nbformat_minor": 2
}
